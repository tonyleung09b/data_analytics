{
  "nbformat": 4,
  "nbformat_minor": 0,
  "metadata": {
    "colab": {
      "name": "Welcome To Colaboratory",
      "provenance": [],
      "collapsed_sections": [],
      "include_colab_link": true
    },
    "kernelspec": {
      "display_name": "Python 3",
      "name": "python3"
    }
  },
  "cells": [
    {
      "cell_type": "markdown",
      "metadata": {
        "id": "view-in-github",
        "colab_type": "text"
      },
      "source": [
        "<a href=\"https://colab.research.google.com/github/tonyleung09b/data_analytics/blob/main/Welcome_To_Colaboratory.ipynb\" target=\"_parent\"><img src=\"https://colab.research.google.com/assets/colab-badge.svg\" alt=\"Open In Colab\"/></a>"
      ]
    },
    {
      "cell_type": "code",
      "metadata": {
        "id": "Xynnr6vyH19K",
        "outputId": "be0e7bd5-ed73-44e2-dc4e-aa22fb481313",
        "colab": {
          "base_uri": "https://localhost:8080/",
          "height": 35
        }
      },
      "source": [
        "\"Hello World\""
      ],
      "execution_count": 3,
      "outputs": [
        {
          "output_type": "execute_result",
          "data": {
            "application/vnd.google.colaboratory.intrinsic+json": {
              "type": "string"
            },
            "text/plain": [
              "'Hello World'"
            ]
          },
          "metadata": {
            "tags": []
          },
          "execution_count": 3
        }
      ]
    },
    {
      "cell_type": "code",
      "metadata": {
        "id": "Hua7HPWnIfK1",
        "outputId": "fb1394a5-c3b2-4606-c9ee-250a478fde92",
        "colab": {
          "base_uri": "https://localhost:8080/"
        }
      },
      "source": [
        "x = \"hello there!\"\r\n",
        "print(x)\r\n"
      ],
      "execution_count": 6,
      "outputs": [
        {
          "output_type": "stream",
          "text": [
            "hello there!\n"
          ],
          "name": "stdout"
        }
      ]
    },
    {
      "cell_type": "code",
      "metadata": {
        "colab": {
          "base_uri": "https://localhost:8080/"
        },
        "id": "N-L1pV60Iria",
        "outputId": "47466562-1bde-4038-854b-c4c61f8844e0"
      },
      "source": [
        "f = \"firstname\"\r\n",
        "l = \"lastname\"\r\n",
        "e = \"@gmail.com\"\r\n",
        "email = f+l+e\r\n",
        "\r\n",
        "print(email)"
      ],
      "execution_count": 23,
      "outputs": [
        {
          "output_type": "stream",
          "text": [
            "firstnamelastname@gmail.com\n"
          ],
          "name": "stdout"
        }
      ]
    },
    {
      "cell_type": "code",
      "metadata": {
        "id": "jAm5egZ5JG8r",
        "outputId": "6e73a3c1-498e-4fd5-8c79-669b4706dfcb",
        "colab": {
          "base_uri": "https://localhost:8080/"
        }
      },
      "source": [
        "name = \"Max\"\r\n",
        "\r\n",
        "print(name.lower())\r\n",
        "print(name.upper())"
      ],
      "execution_count": 13,
      "outputs": [
        {
          "output_type": "stream",
          "text": [
            "max\n",
            "MAX\n"
          ],
          "name": "stdout"
        }
      ]
    },
    {
      "cell_type": "code",
      "metadata": {
        "colab": {
          "base_uri": "https://localhost:8080/"
        },
        "id": "9Mc5ZoeuKO62",
        "outputId": "4d0710a2-3ed8-474b-e591-3edb0e7f74b3"
      },
      "source": [
        "\r\n",
        "date = 15\r\n",
        "message = \"Do you want to hang out on the \" + str(date) + \"th of this month?\"\r\n",
        "\r\n",
        "print(message)"
      ],
      "execution_count": 35,
      "outputs": [
        {
          "output_type": "stream",
          "text": [
            "Do you want to hang out on the 15th of this month?\n"
          ],
          "name": "stdout"
        }
      ]
    },
    {
      "cell_type": "code",
      "metadata": {
        "id": "iAfG3p0ZSsuY",
        "outputId": "7416d2b1-dcd1-497c-afde-f41b1ec97b93",
        "colab": {
          "base_uri": "https://localhost:8080/"
        }
      },
      "source": [
        "name = \"Max\"\r\n",
        "\r\n",
        "print( \"Hello\" + \" \" + name + \", what are you doing after class\")"
      ],
      "execution_count": 25,
      "outputs": [
        {
          "output_type": "stream",
          "text": [
            "Hello Max, what are you doing after class\n"
          ],
          "name": "stdout"
        }
      ]
    },
    {
      "cell_type": "code",
      "metadata": {
        "id": "KXEVewIPTKpF",
        "outputId": "f2d9f961-be8e-4587-9d70-c259b1c5af78",
        "colab": {
          "base_uri": "https://localhost:8080/"
        }
      },
      "source": [
        "print(\"\\thello man .             \".lstrip())"
      ],
      "execution_count": 32,
      "outputs": [
        {
          "output_type": "stream",
          "text": [
            "hello man .             \n"
          ],
          "name": "stdout"
        }
      ]
    }
  ]
}